{
 "cells": [
  {
   "cell_type": "code",
   "execution_count": 1,
   "metadata": {},
   "outputs": [
    {
     "name": "stdout",
     "output_type": "stream",
     "text": [
      "===================================data headers before dropping columns=========================================\n",
      "   PassengerId  Survived  Pclass  \\\n",
      "0            1      died       3   \n",
      "1            2  survived       1   \n",
      "2            3  survived       3   \n",
      "3            4  survived       1   \n",
      "4            5      died       3   \n",
      "\n",
      "                                                Name     Sex   Age  SibSp  \\\n",
      "0                            Braund, Mr. Owen Harris    male  22.0      1   \n",
      "1  Cumings, Mrs. John Bradley (Florence Briggs Th...  female  38.0      1   \n",
      "2                             Heikkinen, Miss. Laina  female  26.0      0   \n",
      "3       Futrelle, Mrs. Jacques Heath (Lily May Peel)  female  35.0      1   \n",
      "4                           Allen, Mr. William Henry    male  35.0      0   \n",
      "\n",
      "   Parch            Ticket     Fare Cabin Embarked  \n",
      "0      0         A/5 21171   7.2500   NaN        S  \n",
      "1      0          PC 17599  71.2833   C85        C  \n",
      "2      0  STON/O2. 3101282   7.9250   NaN        S  \n",
      "3      0            113803  53.1000  C123        S  \n",
      "4      0            373450   8.0500   NaN        S  \n"
     ]
    }
   ],
   "source": [
    "import numpy as np\n",
    "import seaborn as sns\n",
    "import matplotlib.pyplot as plt\n",
    "import pandas as pd\n",
    "\n",
    "titanic_df = pd.read_csv('train.csv')\n",
    "\n",
    "titanic_df ['Survived'] = titanic_df ['Survived'].map({0:'died',1:'survived'})\n",
    "print('===================================data headers before dropping columns=========================================')\n",
    "print(titanic_df.head(5))"
   ]
  },
  {
   "cell_type": "code",
   "execution_count": 14,
   "metadata": {},
   "outputs": [
    {
     "name": "stdout",
     "output_type": "stream",
     "text": [
      "=======================================data transformation===================================================\n",
      "=======================================data headers after dropping columns first way=========================\n",
      "     PassengerId  Survived  Pclass  \\\n",
      "0              1      died       3   \n",
      "1              2  survived       1   \n",
      "2              3  survived       3   \n",
      "3              4  survived       1   \n",
      "4              5      died       3   \n",
      "5              6      died       3   \n",
      "6              7      died       1   \n",
      "7              8      died       3   \n",
      "8              9  survived       3   \n",
      "9             10  survived       2   \n",
      "10            11  survived       3   \n",
      "11            12  survived       1   \n",
      "12            13      died       3   \n",
      "13            14      died       3   \n",
      "14            15      died       3   \n",
      "15            16  survived       2   \n",
      "16            17      died       3   \n",
      "17            18  survived       2   \n",
      "18            19      died       3   \n",
      "19            20  survived       3   \n",
      "20            21      died       2   \n",
      "21            22  survived       2   \n",
      "22            23  survived       3   \n",
      "23            24  survived       1   \n",
      "24            25      died       3   \n",
      "25            26  survived       3   \n",
      "26            27      died       3   \n",
      "27            28      died       1   \n",
      "28            29  survived       3   \n",
      "29            30      died       3   \n",
      "..           ...       ...     ...   \n",
      "861          862      died       2   \n",
      "862          863  survived       1   \n",
      "863          864      died       3   \n",
      "864          865      died       2   \n",
      "865          866  survived       2   \n",
      "866          867  survived       2   \n",
      "867          868      died       1   \n",
      "868          869      died       3   \n",
      "869          870  survived       3   \n",
      "870          871      died       3   \n",
      "871          872  survived       1   \n",
      "872          873      died       1   \n",
      "873          874      died       3   \n",
      "874          875  survived       2   \n",
      "875          876  survived       3   \n",
      "876          877      died       3   \n",
      "877          878      died       3   \n",
      "878          879      died       3   \n",
      "879          880  survived       1   \n",
      "880          881  survived       2   \n",
      "881          882      died       3   \n",
      "882          883      died       3   \n",
      "883          884      died       2   \n",
      "884          885      died       3   \n",
      "885          886      died       3   \n",
      "886          887      died       2   \n",
      "887          888  survived       1   \n",
      "888          889      died       3   \n",
      "889          890  survived       1   \n",
      "890          891      died       3   \n",
      "\n",
      "                                                  Name     Sex   Age  \\\n",
      "0                              Braund, Mr. Owen Harris    male  22.0   \n",
      "1    Cumings, Mrs. John Bradley (Florence Briggs Th...  female  38.0   \n",
      "2                               Heikkinen, Miss. Laina  female  26.0   \n",
      "3         Futrelle, Mrs. Jacques Heath (Lily May Peel)  female  35.0   \n",
      "4                             Allen, Mr. William Henry    male  35.0   \n",
      "5                                     Moran, Mr. James    male   NaN   \n",
      "6                              McCarthy, Mr. Timothy J    male  54.0   \n",
      "7                       Palsson, Master. Gosta Leonard    male   2.0   \n",
      "8    Johnson, Mrs. Oscar W (Elisabeth Vilhelmina Berg)  female  27.0   \n",
      "9                  Nasser, Mrs. Nicholas (Adele Achem)  female  14.0   \n",
      "10                     Sandstrom, Miss. Marguerite Rut  female   4.0   \n",
      "11                            Bonnell, Miss. Elizabeth  female  58.0   \n",
      "12                      Saundercock, Mr. William Henry    male  20.0   \n",
      "13                         Andersson, Mr. Anders Johan    male  39.0   \n",
      "14                Vestrom, Miss. Hulda Amanda Adolfina  female  14.0   \n",
      "15                    Hewlett, Mrs. (Mary D Kingcome)   female  55.0   \n",
      "16                                Rice, Master. Eugene    male   2.0   \n",
      "17                        Williams, Mr. Charles Eugene    male   NaN   \n",
      "18   Vander Planke, Mrs. Julius (Emelia Maria Vande...  female  31.0   \n",
      "19                             Masselmani, Mrs. Fatima  female   NaN   \n",
      "20                                Fynney, Mr. Joseph J    male  35.0   \n",
      "21                               Beesley, Mr. Lawrence    male  34.0   \n",
      "22                         McGowan, Miss. Anna \"Annie\"  female  15.0   \n",
      "23                        Sloper, Mr. William Thompson    male  28.0   \n",
      "24                       Palsson, Miss. Torborg Danira  female   8.0   \n",
      "25   Asplund, Mrs. Carl Oscar (Selma Augusta Emilia...  female  38.0   \n",
      "26                             Emir, Mr. Farred Chehab    male   NaN   \n",
      "27                      Fortune, Mr. Charles Alexander    male  19.0   \n",
      "28                       O'Dwyer, Miss. Ellen \"Nellie\"  female   NaN   \n",
      "29                                 Todoroff, Mr. Lalio    male   NaN   \n",
      "..                                                 ...     ...   ...   \n",
      "861                        Giles, Mr. Frederick Edward    male  21.0   \n",
      "862  Swift, Mrs. Frederick Joel (Margaret Welles Ba...  female  48.0   \n",
      "863                  Sage, Miss. Dorothy Edith \"Dolly\"  female   NaN   \n",
      "864                             Gill, Mr. John William    male  24.0   \n",
      "865                           Bystrom, Mrs. (Karolina)  female  42.0   \n",
      "866                       Duran y More, Miss. Asuncion  female  27.0   \n",
      "867               Roebling, Mr. Washington Augustus II    male  31.0   \n",
      "868                        van Melkebeke, Mr. Philemon    male   NaN   \n",
      "869                    Johnson, Master. Harold Theodor    male   4.0   \n",
      "870                                  Balkic, Mr. Cerin    male  26.0   \n",
      "871   Beckwith, Mrs. Richard Leonard (Sallie Monypeny)  female  47.0   \n",
      "872                           Carlsson, Mr. Frans Olof    male  33.0   \n",
      "873                        Vander Cruyssen, Mr. Victor    male  47.0   \n",
      "874              Abelson, Mrs. Samuel (Hannah Wizosky)  female  28.0   \n",
      "875                   Najib, Miss. Adele Kiamie \"Jane\"  female  15.0   \n",
      "876                      Gustafsson, Mr. Alfred Ossian    male  20.0   \n",
      "877                               Petroff, Mr. Nedelio    male  19.0   \n",
      "878                                 Laleff, Mr. Kristo    male   NaN   \n",
      "879      Potter, Mrs. Thomas Jr (Lily Alexenia Wilson)  female  56.0   \n",
      "880       Shelley, Mrs. William (Imanita Parrish Hall)  female  25.0   \n",
      "881                                 Markun, Mr. Johann    male  33.0   \n",
      "882                       Dahlberg, Miss. Gerda Ulrika  female  22.0   \n",
      "883                      Banfield, Mr. Frederick James    male  28.0   \n",
      "884                             Sutehall, Mr. Henry Jr    male  25.0   \n",
      "885               Rice, Mrs. William (Margaret Norton)  female  39.0   \n",
      "886                              Montvila, Rev. Juozas    male  27.0   \n",
      "887                       Graham, Miss. Margaret Edith  female  19.0   \n",
      "888           Johnston, Miss. Catherine Helen \"Carrie\"  female   NaN   \n",
      "889                              Behr, Mr. Karl Howell    male  26.0   \n",
      "890                                Dooley, Mr. Patrick    male  32.0   \n",
      "\n",
      "           Cabin Embarked  \n",
      "0            NaN        S  \n",
      "1            C85        C  \n",
      "2            NaN        S  \n",
      "3           C123        S  \n",
      "4            NaN        S  \n",
      "5            NaN        Q  \n",
      "6            E46        S  \n",
      "7            NaN        S  \n",
      "8            NaN        S  \n",
      "9            NaN        C  \n",
      "10            G6        S  \n",
      "11          C103        S  \n",
      "12           NaN        S  \n",
      "13           NaN        S  \n",
      "14           NaN        S  \n",
      "15           NaN        S  \n",
      "16           NaN        Q  \n",
      "17           NaN        S  \n",
      "18           NaN        S  \n",
      "19           NaN        C  \n",
      "20           NaN        S  \n",
      "21           D56        S  \n",
      "22           NaN        Q  \n",
      "23            A6        S  \n",
      "24           NaN        S  \n",
      "25           NaN        S  \n",
      "26           NaN        C  \n",
      "27   C23 C25 C27        S  \n",
      "28           NaN        Q  \n",
      "29           NaN        S  \n",
      "..           ...      ...  \n",
      "861          NaN        S  \n",
      "862          D17        S  \n",
      "863          NaN        S  \n",
      "864          NaN        S  \n",
      "865          NaN        S  \n",
      "866          NaN        C  \n",
      "867          A24        S  \n",
      "868          NaN        S  \n",
      "869          NaN        S  \n",
      "870          NaN        S  \n",
      "871          D35        S  \n",
      "872  B51 B53 B55        S  \n",
      "873          NaN        S  \n",
      "874          NaN        C  \n",
      "875          NaN        C  \n",
      "876          NaN        S  \n",
      "877          NaN        S  \n",
      "878          NaN        S  \n",
      "879          C50        C  \n",
      "880          NaN        S  \n",
      "881          NaN        S  \n",
      "882          NaN        S  \n",
      "883          NaN        S  \n",
      "884          NaN        S  \n",
      "885          NaN        Q  \n",
      "886          NaN        S  \n",
      "887          B42        S  \n",
      "888          NaN        S  \n",
      "889         C148        C  \n",
      "890          NaN        Q  \n",
      "\n",
      "[891 rows x 8 columns]\n",
      "========================================data headers after transforming class coliumn==========================\n",
      "   PassengerId  Survived        Pclass  \\\n",
      "0            1      died   lower class   \n",
      "1            2  survived  luxury class   \n",
      "2            3  survived   lower class   \n",
      "3            4  survived  luxury class   \n",
      "4            5      died   lower class   \n",
      "\n",
      "                                                Name     Sex   Age Cabin  \\\n",
      "0                            Braund, Mr. Owen Harris    male  22.0   NaN   \n",
      "1  Cumings, Mrs. John Bradley (Florence Briggs Th...  female  38.0   C85   \n",
      "2                             Heikkinen, Miss. Laina  female  26.0   NaN   \n",
      "3       Futrelle, Mrs. Jacques Heath (Lily May Peel)  female  35.0  C123   \n",
      "4                           Allen, Mr. William Henry    male  35.0   NaN   \n",
      "\n",
      "  Embarked  \n",
      "0        S  \n",
      "1        C  \n",
      "2        S  \n",
      "3        S  \n",
      "4        S  \n"
     ]
    }
   ],
   "source": [
    "print(\"=======================================data transformation===================================================\")\n",
    "print(\"=======================================data headers after dropping columns first way=========================\")\n",
    "# dropping columns\n",
    "titanic_df = titanic_df.drop(['SibSp','Parch','Ticket','Fare'],axis=1)\n",
    "print(titanic_df)\n",
    "\n",
    "# convert the class column to strings for easier reading\n",
    "\n",
    "titanic_df['Pclass'] = titanic_df['Pclass'].map({1:'luxury class',2:'Economy class',3:'lower class'})\n",
    "\n",
    "print('========================================data headers after transforming class coliumn==========================')\n",
    "print(titanic_df.head(5))\n"
   ]
  },
  {
   "cell_type": "code",
   "execution_count": 19,
   "metadata": {},
   "outputs": [
    {
     "name": "stdout",
     "output_type": "stream",
     "text": [
      "   PassengerId  Survived  Pclass  \\\n",
      "0            1      died       3   \n",
      "1            2  survived       1   \n",
      "2            3  survived       3   \n",
      "3            4  survived       1   \n",
      "4            5      died       3   \n",
      "\n",
      "                                                Name     Sex   Age  SibSp  \\\n",
      "0                            Braund, Mr. Owen Harris    male  22.0      1   \n",
      "1  Cumings, Mrs. John Bradley (Florence Briggs Th...  female  38.0      1   \n",
      "2                             Heikkinen, Miss. Laina  female  26.0      0   \n",
      "3       Futrelle, Mrs. Jacques Heath (Lily May Peel)  female  35.0      1   \n",
      "4                           Allen, Mr. William Henry    male  35.0      0   \n",
      "\n",
      "   Parch            Ticket     Fare Cabin Embarked  \n",
      "0      0         A/5 21171   7.2500  C100        S  \n",
      "1      0          PC 17599  71.2833   C85        C  \n",
      "2      0  STON/O2. 3101282   7.9250  C100        S  \n",
      "3      0            113803  53.1000  C123        S  \n",
      "4      0            373450   8.0500  C100        S  \n",
      "   PassengerId  Survived  Pclass  \\\n",
      "0            1      died       3   \n",
      "1            2  survived       1   \n",
      "2            3  survived       3   \n",
      "3            4  survived       1   \n",
      "4            5      died       3   \n",
      "\n",
      "                                                Name     Sex   Age  SibSp  \\\n",
      "0                            Braund, Mr. Owen Harris    male  22.0      1   \n",
      "1  Cumings, Mrs. John Bradley (Florence Briggs Th...  female  38.0      1   \n",
      "2                             Heikkinen, Miss. Laina  female  26.0      0   \n",
      "3       Futrelle, Mrs. Jacques Heath (Lily May Peel)  female  35.0      1   \n",
      "4                           Allen, Mr. William Henry    male  35.0      0   \n",
      "\n",
      "   Parch            Ticket     Fare Cabin Embarked  \n",
      "0      0         A/5 21171   7.2500  C100        S  \n",
      "1      0          PC 17599  71.2833   C85        C  \n",
      "2      0  STON/O2. 3101282   7.9250  C100        S  \n",
      "3      0            113803  53.1000  C123        S  \n",
      "4      0            373450   8.0500  C100        S  \n"
     ]
    }
   ],
   "source": [
    "# replacing NAN values in  EMBARKED column with 'S' using fillna() function\n",
    "titanic_df['Embarked'] = titanic_df['Embarked'].fillna('S')\n",
    "print(titanic_df.head())\n",
    "\n",
    "# replacing NAN values in  CABIN column with 'C100' using fillna() function\n",
    "titanic_df['Cabin'] = titanic_df['Cabin'].fillna('C100')\n",
    "print(titanic_df.head())"
   ]
  },
  {
   "cell_type": "code",
   "execution_count": 20,
   "metadata": {},
   "outputs": [
    {
     "name": "stdout",
     "output_type": "stream",
     "text": [
      "   PassengerId  Survived  Pclass  \\\n",
      "0            1      died       3   \n",
      "1            2  survived       1   \n",
      "2            3  survived       3   \n",
      "3            4  survived       1   \n",
      "4            5      died       3   \n",
      "\n",
      "                                                Name     Sex   Age  SibSp  \\\n",
      "0                            Braund, Mr. Owen Harris    male  22.0      1   \n",
      "1  Cumings, Mrs. John Bradley (Florence Briggs Th...  female  38.0      1   \n",
      "2                             Heikkinen, Miss. Laina  female  26.0      0   \n",
      "3       Futrelle, Mrs. Jacques Heath (Lily May Peel)  female  35.0      1   \n",
      "4                           Allen, Mr. William Henry    male  35.0      0   \n",
      "\n",
      "   Parch            Ticket     Fare Cabin     Embarked  \n",
      "0      0         A/5 21171   7.2500  C100  southampton  \n",
      "1      0          PC 17599  71.2833   C85    cherbourg  \n",
      "2      0  STON/O2. 3101282   7.9250  C100  southampton  \n",
      "3      0            113803  53.1000  C123  southampton  \n",
      "4      0            373450   8.0500  C100  southampton  \n"
     ]
    }
   ],
   "source": [
    "# convert the values in embarked column of dataset to strings using map function\n",
    "\n",
    "titanic_df['Embarked'] = titanic_df['Embarked'].map({'C':'cherbourg','Q':'queenstown','S':'southampton'})\n",
    "print(titanic_df.head())"
   ]
  },
  {
   "cell_type": "code",
   "execution_count": 18,
   "metadata": {},
   "outputs": [
    {
     "name": "stdout",
     "output_type": "stream",
     "text": [
      "survival rate based on passenger sitting class\n"
     ]
    },
    {
     "data": {
      "image/png": "[encoded data removed]",
      "text/plain": [
       "<Figure size 432x288 with 1 Axes>"
      ]
     },
     "metadata": {},
     "output_type": "display_data"
    }
   ],
   "source": [
    "# data visualization \n",
    "#VISUALIZATION 1.................\n",
    "print(\"survival rate based on passenger sitting class\")\n",
    "titanic_df['Pclass'] = titanic_df['Pclass'].map({1:'luxry class', 2:'Economy class', 3:'lower class'})\n",
    "ax = sns.countplot(x = 'Pclass',hue = 'Survived', palette = 'Set1', data = titanic_df)\n",
    "ax.set(title='Passenger status (survived/died) against passenger class', xlabel = 'passenger class', ylabel = 'total')\n",
    "plt.show()"
   ]
  },
  {
   "cell_type": "code",
   "execution_count": 20,
   "metadata": {},
   "outputs": [
    {
     "name": "stdout",
     "output_type": "stream",
     "text": [
      "survival rate based on gender\n",
      "\n",
      "Survived  died  survived\n",
      "Sex                     \n",
      "female      81       233\n",
      "male       468       109\n"
     ]
    },
    {
     "data": {
      "image/png": "[encoded data removed]",
      "text/plain": [
       "<Figure size 432x288 with 1 Axes>"
      ]
     },
     "metadata": {},
     "output_type": "display_data"
    }
   ],
   "source": [
    "#VISUALIZATION 2..........\n",
    "print('survival rate based on gender')\n",
    "print\n",
    "print(pd.crosstab(titanic_df['Sex'],titanic_df['Survived'])) # prints the no.of male and female survived\n",
    "ax=sns.countplot(x='Sex', hue='Survived', palette='Set2', data=titanic_df)\n",
    "ax.set(title='total survivors according to sex', xlabel='Sex', ylabel='Total')\n",
    "plt.show()"
   ]
  },
  {
   "cell_type": "code",
   "execution_count": 11,
   "metadata": {},
   "outputs": [
    {
     "name": "stdout",
     "output_type": "stream",
     "text": [
      "survival rate based on passenger age group\n"
     ]
    },
    {
     "data": {
      "image/png": "[encoded data removed]",
      "text/plain": [
       "<Figure size 432x288 with 1 Axes>"
      ]
     },
     "metadata": {},
     "output_type": "display_data"
    }
   ],
   "source": [
    "#VISUALIZATION 3.....................\n",
    "print('survival rate based on passenger age group')\n",
    "\n",
    "intervals=(0,18,35,60,120)\n",
    "categories=['children', 'teens', 'adult', 'old']\n",
    "titanic_df['Age_cats'] = pd.cut(titanic_df.Age, intervals, labels = categories)\n",
    "\n",
    "#print(titanic_df['Age_cats'])\n",
    "\n",
    "ax = sns.countplot(x='Age_cats', data = titanic_df, hue='Survived', palette = 'Set3')\n",
    "ax.set(xlabel='age category', ylabel='total', title='age category survival distribution')\n",
    "plt.show()"
   ]
  },
  {
   "cell_type": "code",
   "execution_count": 2,
   "metadata": {},
   "outputs": [
    {
     "name": "stdout",
     "output_type": "stream",
     "text": [
      "Survivial rate based on passenger embarked port\n"
     ]
    },
    {
     "ename": "AttributeError",
     "evalue": "'str' object has no attribute 'get'",
     "output_type": "error",
     "traceback": [
      "\u001b[0;31m--------------------------------------------------------------------------\u001b[0m",
      "\u001b[0;31mAttributeError\u001b[0m                           Traceback (most recent call last)",
      "\u001b[0;32m<ipython-input-2-3ecc49f4d318>\u001b[0m in \u001b[0;36m<module>\u001b[0;34m()\u001b[0m\n\u001b[1;32m      4\u001b[0m \u001b[0;31m#print(pd.crosstab(titanic_df['Embarked'], titanic_df.Survived))\u001b[0m\u001b[0;34m\u001b[0m\u001b[0;34m\u001b[0m\u001b[0m\n\u001b[1;32m      5\u001b[0m \u001b[0;34m\u001b[0m\u001b[0m\n\u001b[0;32m----> 6\u001b[0;31m \u001b[0max\u001b[0m\u001b[0;34m=\u001b[0m\u001b[0msns\u001b[0m\u001b[0;34m.\u001b[0m\u001b[0mcountplot\u001b[0m\u001b[0;34m(\u001b[0m\u001b[0mx\u001b[0m \u001b[0;34m=\u001b[0m \u001b[0;34m'Embarked'\u001b[0m\u001b[0;34m,\u001b[0m \u001b[0mhue\u001b[0m \u001b[0;34m=\u001b[0m \u001b[0;34m'Survived'\u001b[0m\u001b[0;34m,\u001b[0m \u001b[0mpalette\u001b[0m \u001b[0;34m=\u001b[0m \u001b[0;34m'Set1'\u001b[0m\u001b[0;34m,\u001b[0m \u001b[0mdata\u001b[0m \u001b[0;34m=\u001b[0m \u001b[0;34m'titanic_df'\u001b[0m\u001b[0;34m)\u001b[0m\u001b[0;34m\u001b[0m\u001b[0m\n\u001b[0m\u001b[1;32m      7\u001b[0m \u001b[0max\u001b[0m\u001b[0;34m.\u001b[0m\u001b[0mset\u001b[0m\u001b[0;34m(\u001b[0m\u001b[0mxlabel\u001b[0m\u001b[0;34m=\u001b[0m\u001b[0;34m'port'\u001b[0m\u001b[0;34m,\u001b[0m \u001b[0mylabel\u001b[0m\u001b[0;34m=\u001b[0m\u001b[0;34m'total'\u001b[0m\u001b[0;34m,\u001b[0m \u001b[0mtitle\u001b[0m\u001b[0;34m=\u001b[0m\u001b[0;34m'survival distribution on the basis of port'\u001b[0m\u001b[0;34m)\u001b[0m\u001b[0;34m\u001b[0m\u001b[0m\n\u001b[1;32m      8\u001b[0m \u001b[0mplt\u001b[0m\u001b[0;34m.\u001b[0m\u001b[0mshow\u001b[0m\u001b[0;34m(\u001b[0m\u001b[0;34m)\u001b[0m\u001b[0;34m\u001b[0m\u001b[0m\n",
      "\u001b[0;32m/home/abhishek/anaconda2/lib/python2.7/site-packages/seaborn/categorical.pyc\u001b[0m in \u001b[0;36mcountplot\u001b[0;34m(x, y, hue, data, order, hue_order, orient, color, palette, saturation, dodge, ax, **kwargs)\u001b[0m\n\u001b[1;32m   3357\u001b[0m                           \u001b[0mestimator\u001b[0m\u001b[0;34m,\u001b[0m \u001b[0mci\u001b[0m\u001b[0;34m,\u001b[0m \u001b[0mn_boot\u001b[0m\u001b[0;34m,\u001b[0m \u001b[0munits\u001b[0m\u001b[0;34m,\u001b[0m\u001b[0;34m\u001b[0m\u001b[0m\n\u001b[1;32m   3358\u001b[0m                           \u001b[0morient\u001b[0m\u001b[0;34m,\u001b[0m \u001b[0mcolor\u001b[0m\u001b[0;34m,\u001b[0m \u001b[0mpalette\u001b[0m\u001b[0;34m,\u001b[0m \u001b[0msaturation\u001b[0m\u001b[0;34m,\u001b[0m\u001b[0;34m\u001b[0m\u001b[0m\n\u001b[0;32m-> 3359\u001b[0;31m                           errcolor, errwidth, capsize, dodge)\n\u001b[0m\u001b[1;32m   3360\u001b[0m \u001b[0;34m\u001b[0m\u001b[0m\n\u001b[1;32m   3361\u001b[0m     \u001b[0mplotter\u001b[0m\u001b[0;34m.\u001b[0m\u001b[0mvalue_label\u001b[0m \u001b[0;34m=\u001b[0m \u001b[0;34m\"count\"\u001b[0m\u001b[0;34m\u001b[0m\u001b[0m\n",
      "\u001b[0;32m/home/abhishek/anaconda2/lib/python2.7/site-packages/seaborn/categorical.pyc\u001b[0m in \u001b[0;36m__init__\u001b[0;34m(self, x, y, hue, data, order, hue_order, estimator, ci, n_boot, units, orient, color, palette, saturation, errcolor, errwidth, capsize, dodge)\u001b[0m\n\u001b[1;32m   1594\u001b[0m         \u001b[0;34m\"\"\"Initialize the plotter.\"\"\"\u001b[0m\u001b[0;34m\u001b[0m\u001b[0m\n\u001b[1;32m   1595\u001b[0m         self.establish_variables(x, y, hue, data, orient,\n\u001b[0;32m-> 1596\u001b[0;31m                                  order, hue_order, units)\n\u001b[0m\u001b[1;32m   1597\u001b[0m         \u001b[0mself\u001b[0m\u001b[0;34m.\u001b[0m\u001b[0mestablish_colors\u001b[0m\u001b[0;34m(\u001b[0m\u001b[0mcolor\u001b[0m\u001b[0;34m,\u001b[0m \u001b[0mpalette\u001b[0m\u001b[0;34m,\u001b[0m \u001b[0msaturation\u001b[0m\u001b[0;34m)\u001b[0m\u001b[0;34m\u001b[0m\u001b[0m\n\u001b[1;32m   1598\u001b[0m         \u001b[0mself\u001b[0m\u001b[0;34m.\u001b[0m\u001b[0mestimate_statistic\u001b[0m\u001b[0;34m(\u001b[0m\u001b[0mestimator\u001b[0m\u001b[0;34m,\u001b[0m \u001b[0mci\u001b[0m\u001b[0;34m,\u001b[0m \u001b[0mn_boot\u001b[0m\u001b[0;34m)\u001b[0m\u001b[0;34m\u001b[0m\u001b[0m\n",
      "\u001b[0;32m/home/abhishek/anaconda2/lib/python2.7/site-packages/seaborn/categorical.pyc\u001b[0m in \u001b[0;36mestablish_variables\u001b[0;34m(self, x, y, hue, data, orient, order, hue_order, units)\u001b[0m\n\u001b[1;32m    140\u001b[0m             \u001b[0;31m# See if we need to get variables from `data`\u001b[0m\u001b[0;34m\u001b[0m\u001b[0;34m\u001b[0m\u001b[0m\n\u001b[1;32m    141\u001b[0m             \u001b[0;32mif\u001b[0m \u001b[0mdata\u001b[0m \u001b[0;32mis\u001b[0m \u001b[0;32mnot\u001b[0m \u001b[0mNone\u001b[0m\u001b[0;34m:\u001b[0m\u001b[0;34m\u001b[0m\u001b[0m\n\u001b[0;32m--> 142\u001b[0;31m                 \u001b[0mx\u001b[0m \u001b[0;34m=\u001b[0m \u001b[0mdata\u001b[0m\u001b[0;34m.\u001b[0m\u001b[0mget\u001b[0m\u001b[0;34m(\u001b[0m\u001b[0mx\u001b[0m\u001b[0;34m,\u001b[0m \u001b[0mx\u001b[0m\u001b[0;34m)\u001b[0m\u001b[0;34m\u001b[0m\u001b[0m\n\u001b[0m\u001b[1;32m    143\u001b[0m                 \u001b[0my\u001b[0m \u001b[0;34m=\u001b[0m \u001b[0mdata\u001b[0m\u001b[0;34m.\u001b[0m\u001b[0mget\u001b[0m\u001b[0;34m(\u001b[0m\u001b[0my\u001b[0m\u001b[0;34m,\u001b[0m \u001b[0my\u001b[0m\u001b[0;34m)\u001b[0m\u001b[0;34m\u001b[0m\u001b[0m\n\u001b[1;32m    144\u001b[0m                 \u001b[0mhue\u001b[0m \u001b[0;34m=\u001b[0m \u001b[0mdata\u001b[0m\u001b[0;34m.\u001b[0m\u001b[0mget\u001b[0m\u001b[0;34m(\u001b[0m\u001b[0mhue\u001b[0m\u001b[0;34m,\u001b[0m \u001b[0mhue\u001b[0m\u001b[0;34m)\u001b[0m\u001b[0;34m\u001b[0m\u001b[0m\n",
      "\u001b[0;31mAttributeError\u001b[0m: 'str' object has no attribute 'get'"
     ]
    }
   ],
   "source": [
    "#VISUALIZATION 4.....................\n",
    "print('Survivial rate based on passenger embarked port')\n",
    "\n",
    "#print(pd.crosstab(titanic_df['Embarked'], titanic_df.Survived))\n",
    "\n",
    "ax=sns.countplot(x = 'Embarked', hue = 'Survived', palette = 'Set1', data = 'titanic_df')\n",
    "ax.set(xlabel='port', ylabel='total', title='survival distribution on the basis of port')\n",
    "plt.show()"
   ]
  },
  {
   "cell_type": "code",
   "execution_count": null,
   "metadata": {},
   "outputs": [],
   "source": []
  }
 ],
 "metadata": {
  "kernelspec": {
   "display_name": "Python 2",
   "language": "python",
   "name": "python2"
  },
  "language_info": {
   "codemirror_mode": {
    "name": "ipython",
    "version": 2
   },
   "file_extension": ".py",
   "mimetype": "text/x-python",
   "name": "python",
   "nbconvert_exporter": "python",
   "pygments_lexer": "ipython2",
   "version": "2.7.15"
  }
 },
 "nbformat": 4,
 "nbformat_minor": 2
}
